{
 "cells": [
  {
   "cell_type": "code",
   "execution_count": null,
   "metadata": {},
   "outputs": [],
   "source": [
    "from datasets import load_dataset\n",
    "\n",
    "ds = load_dataset(\"tranphat1806/processed-WaveUI\")\n",
    "ds = ds['train']"
   ]
  },
  {
   "cell_type": "code",
   "execution_count": null,
   "metadata": {},
   "outputs": [],
   "source": [
    "# Creating 8 lists corresponding to the categories\n",
    "\n",
    "general_description = [\n",
    "    \"What kind of website is this? Can you describe the main purpose or theme of this page?\",\n",
    "    \"What do you see in the top navigation bar of this page?\",\n",
    "    \"Can you describe the main sections of this page? What are their functions?\",\n",
    "    \"What advertisements or promotions are visible on this page?\",\n",
    "    \"What is the color scheme or overall design style of the website?\"\n",
    "]\n",
    "\n",
    "elements_on_page = [\n",
    "    \"What elements are clickable on this page, and what do they do?\",\n",
    "    \"Can you find any text input fields on this page? What are they labeled as?\",\n",
    "    \"Are there any dropdown menus on this page? What options do they provide?\",\n",
    "    \"Can you identify any buttons? What are their labels or icons?\",\n",
    "    \"Are there any images on this page? Can you describe what they depict?\"\n",
    "]\n",
    "\n",
    "navigation_functionality = [\n",
    "    \"What actions can a user perform on this page?\",\n",
    "    \"Can you describe the search functionality on this page, if any?\",\n",
    "    \"Are there any links to other sections of the website? Where do they lead?\",\n",
    "    \"Is there a call-to-action on this page (e.g., 'Sign Up,' 'Learn More')? Where is it located?\",\n",
    "    \"Are there any icons on this page? What do they represent?\"\n",
    "]\n",
    "\n",
    "content_specifics = [\n",
    "    \"Can you describe the text in the main content area of this page?\",\n",
    "    \"Are there any highlighted or featured items? What are they?\",\n",
    "    \"Can you find any user-generated content, such as posts or comments? What do they say?\",\n",
    "    \"Are there any videos or interactive elements on this page? Where are they located?\",\n",
    "    \"Is there any content that seems personalized or targeted for the user?\"\n",
    "]\n",
    "\n",
    "user_interaction = [\n",
    "    \"How can a user interact with this page? What actions can they take?\",\n",
    "    \"Can you describe how a user might navigate to the next section of the page?\",\n",
    "    \"Are there any forms on this page? What fields does the form include?\",\n",
    "    \"If a user wanted to log in or sign up, what steps would they need to take on this page?\",\n",
    "    \"Can you describe how a user might leave feedback or contact support on this page?\"\n",
    "]\n",
    "\n",
    "ads_promotions = [\n",
    "    \"Are there any advertisements on this page? What do they promote?\",\n",
    "    \"Can you describe any banners or pop-ups visible on this page?\",\n",
    "    \"Are there any discount offers or sales mentioned? Where are they displayed?\",\n",
    "    \"Do you see any sponsored content? How is it marked or separated from the main content?\",\n",
    "    \"Can you identify any brand logos or promotional materials on this page?\"\n",
    "]\n",
    "\n",
    "accessibility_layout = [\n",
    "    \"How is the page structured? Can you describe the layout?\",\n",
    "    \"Are there any accessibility features visible, such as text enlargement or contrast adjustment tools?\",\n",
    "    \"Can you identify the footer of this page? What information does it include?\",\n",
    "    \"Is the page responsive? How does the content appear to adjust for different screen sizes?\",\n",
    "    \"Are there any loading indicators or progress bars? What are they for?\"\n",
    "]\n",
    "\n",
    "depth_understanding = [\n",
    "    \"What is the primary focus of this page? What do you think the user is expected to do here?\",\n",
    "    \"Can you identify any repetitive or duplicated elements on this page? Where are they located?\",\n",
    "    \"Does this page contain any errors, broken links, or missing content? How can you tell?\",\n",
    "    \"Are there any language or region-specific elements visible on this page?\",\n",
    "    \"What do you think could be improved about this page’s design or usability?\"\n",
    "]\n"
   ]
  },
  {
   "cell_type": "code",
   "execution_count": null,
   "metadata": {},
   "outputs": [],
   "source": [
    "# test.py\n",
    "#inferencing the model.\n",
    "#To test:\n",
    "# 1: Recognizing different parts in the image: Normal conversation (what the website is about, what can it do, what does the ads show, how many friends online,...)\n",
    "# 2: Description (Short summarization of the current state of the website.)\n",
    "import torch\n",
    "from PIL import Image\n",
    "from transformers import AutoModel, AutoTokenizer\n",
    "import os\n",
    "import json\n",
    "\n",
    "model = AutoModel.from_pretrained('openbmb/MiniCPM-V-2_6', trust_remote_code=True,\n",
    "    attn_implementation='flash_attention_2', torch_dtype=torch.bfloat16) # sdpa or flash_attention_2, no eager\n",
    "model = model.eval().cuda()\n",
    "tokenizer = AutoTokenizer.from_pretrained('openbmb/MiniCPM-V-2_6', trust_remote_code=True)\n",
    "\n",
    "img_dir = \"draft-data\"\n",
    "responses = []\n",
    "for image_file in os.listdir(img_dir):\n",
    "    if image_file.startswith(\"p_test\"):\n",
    "        image_dir = os.path.join(img_dir, image_file)\n",
    "        image = Image.open(image_dir).convert('RGB')\n",
    "        question = 'Give me the detailed description of the website UI you are looking at! Ignore the bounding boxes of the elements.'\n",
    "        msgs = [{'role': 'user', 'content': [image, question]}]\n",
    "\n",
    "        res = model.chat(\n",
    "            image=None,\n",
    "            msgs=msgs,\n",
    "            tokenizer=tokenizer\n",
    "        )\n",
    "        response = f\"{image_file}'\\n'Generated Response: {res}\"\n",
    "        responses.append(response)\n",
    "        print(response)\n",
    "\n",
    "with open(\"minicpm-testing.json\", \"w\") as file:\n",
    "    json.dumps(responses)"
   ]
  },
  {
   "cell_type": "code",
   "execution_count": 1,
   "metadata": {},
   "outputs": [],
   "source": [
    "import json\n",
    "\n",
    "with open(\"box_prop1.json\", \"r\") as file:\n",
    "    box_prop1 = json.load(file)\n",
    "with open(\"box_prop2.json\", \"r\") as file:\n",
    "    box_prop2 = json.load(file)"
   ]
  },
  {
   "cell_type": "code",
   "execution_count": 2,
   "metadata": {},
   "outputs": [
    {
     "data": {
      "text/plain": [
       "13886"
      ]
     },
     "execution_count": 2,
     "metadata": {},
     "output_type": "execute_result"
    }
   ],
   "source": [
    "len(box_prop2)"
   ]
  },
  {
   "cell_type": "code",
   "execution_count": 32,
   "metadata": {},
   "outputs": [
    {
     "ename": "NameError",
     "evalue": "name 'box_prop1' is not defined",
     "output_type": "error",
     "traceback": [
      "\u001b[1;31m---------------------------------------------------------------------------\u001b[0m",
      "\u001b[1;31mNameError\u001b[0m                                 Traceback (most recent call last)",
      "Cell \u001b[1;32mIn[32], line 1\u001b[0m\n\u001b[1;32m----> 1\u001b[0m box_prop_final \u001b[38;5;241m=\u001b[39m \u001b[43mbox_prop1\u001b[49m\u001b[38;5;241m.\u001b[39mextend(box_prop2)\n\u001b[0;32m      2\u001b[0m \u001b[38;5;28;01mwith\u001b[39;00m \u001b[38;5;28mopen\u001b[39m(\u001b[38;5;124m\"\u001b[39m\u001b[38;5;124mbox_prop.json\u001b[39m\u001b[38;5;124m\"\u001b[39m, \u001b[38;5;124m\"\u001b[39m\u001b[38;5;124mw\u001b[39m\u001b[38;5;124m\"\u001b[39m) \u001b[38;5;28;01mas\u001b[39;00m file:\n\u001b[0;32m      3\u001b[0m     json\u001b[38;5;241m.\u001b[39mdump(box_prop_final, file, indent \u001b[38;5;241m=\u001b[39m \u001b[38;5;241m4\u001b[39m)\n",
      "\u001b[1;31mNameError\u001b[0m: name 'box_prop1' is not defined"
     ]
    }
   ],
   "source": [
    "box_prop_final = box_prop1.extend(box_prop2)\n",
    "with open(\"box_prop.json\", \"w\") as file:\n",
    "    json.dump(box_prop_final, file, indent = 4)"
   ]
  },
  {
   "cell_type": "code",
   "execution_count": 33,
   "metadata": {},
   "outputs": [
    {
     "ename": "ModuleNotFoundError",
     "evalue": "No module named 'datasets'",
     "output_type": "error",
     "traceback": [
      "\u001b[1;31m---------------------------------------------------------------------------\u001b[0m",
      "\u001b[1;31mModuleNotFoundError\u001b[0m                       Traceback (most recent call last)",
      "Cell \u001b[1;32mIn[33], line 1\u001b[0m\n\u001b[1;32m----> 1\u001b[0m \u001b[38;5;28;01mfrom\u001b[39;00m \u001b[38;5;21;01mdatasets\u001b[39;00m \u001b[38;5;28;01mimport\u001b[39;00m load_dataset\n\u001b[0;32m      2\u001b[0m ds \u001b[38;5;241m=\u001b[39m load_dataset(\u001b[38;5;124m\"\u001b[39m\u001b[38;5;124mtranphat1806/processed-WaveUI\u001b[39m\u001b[38;5;124m\"\u001b[39m)\n",
      "\u001b[1;31mModuleNotFoundError\u001b[0m: No module named 'datasets'"
     ]
    }
   ],
   "source": [
    "from datasets import load_dataset\n",
    "ds = load_dataset(\"tranphat1806/processed-WaveUI\")"
   ]
  },
  {
   "cell_type": "code",
   "execution_count": null,
   "metadata": {},
   "outputs": [],
   "source": [
    "{\"image_name\": \"processed_image_zip_code_display.png\", \"boxes_content\": [\"Text Box ID 0: Kelley Blue Book\", \"Text Box ID 1: BLUEBOOK\", \"Text Box ID 2: Home\", \"Text Box ID 3: Car Values\", \"Text Box ID 4: Cars for Sale\", \"Text Box ID 5: Car Reviews\", \"Text Box ID 6: Car Repair\", \"Text Box ID 7: Research Tools\", \"Text Box ID 8: THE TRUSTED RESOURCE\", \"Text Box ID 9: Search by Make Model Body Style or Keyword\", \"Text Box ID 10: Q\", \"Text Box ID 11: Carsfor Sale\", \"Text Box ID 12: Cars for Sale Nationwide  07718\", \"Text Box ID 13: +Automatic 34,426)\", \"Text Box ID 14: +AWD/4WD26,448\", \"Text Box ID 15: +2019 and newer 28,460\", \"Text Box ID 16: +Manual 549)\", \"Text Box ID 17: +2019 and older6,441\", \"Text Box ID 18: +New &Used 35,077\", \"Text Box ID 19: Cyl\", \"Text Box ID 20: Sort By:\", \"Text Box ID 21: Search Location\", \"Text Box ID 22: Show Payments\", \"Text Box ID 23: Relevance\", \"Text Box ID 24: Distance\", \"Text Box ID 25: ZIP Code\", \"Text Box ID 26: Sponsored\", \"Text Box ID 27: 25Miles\", \"Text Box ID 28: V\", \"Text Box ID 29: 07718\", \"Text Box ID 30: You might like these vehicles from AMG Auto\", \"Text Box ID 31: Include Long-Distance\", \"Text Box ID 32: Used 2021 Mercedes-Benz S580\", \"Text Box ID 33: $135,495\", \"Text Box ID 34: Delivery \", \"Text Box ID 35: 4MATIC Sedan\", \"Text Box ID 36: Year\", \"Text Box ID 37: AMG Auto\", \"Text Box ID 38: AMG\", \"Text Box ID 39: KBB.com Dealer Rating4.0\", \"Text Box ID 40: AUTO\", \"Text Box ID 41: SPORT\", \"Text Box ID 42: Minimum\", \"Text Box ID 43: Maximum\", \"Text Box ID 44: (29.37 mi. away)\", \"Text Box ID 45: Year\", \"Text Box ID 46: Year\", \"Text Box ID 47: (908)947-0493\", \"Text Box ID 48: Any\", \"Text Box ID 49: Any\", \"Text Box ID 50: Get Directions | Confirm Availability\", \"Text Box ID 51: Make,Model &Trim\", \"Text Box ID 52: Similar vehicles in stock\", \"Text Box ID 53: View vehicles\", \"Text Box ID 54: Vehicle1\", \"Text Box ID 55: Any Make\", \"Text Box ID 56: 35.077Results\", \"Icon Box ID 57: a toggle switch in the \\\"on\\\" position.\", \"Icon Box ID 58: a 2021 Mercedes-Benz S-Class sedan.\", \"Icon Box ID 59: a credit card or payment method.\", \"Icon Box ID 60: a user profile or account.\", \"Icon Box ID 61: a loading or progress bar.\", \"Icon Box ID 62: a loading bar or progress indicator.\", \"Icon Box ID 63: a loading bar or progress indicator.\", \"Icon Box ID 64: an airplane flying over a city.\", \"Icon Box ID 65: an airplane flying in the sky.\", \"Icon Box ID 66: a checkmark indicating a completed action.\"], \"coord\": {\"0\": [91.00000762939453, 12.999999046325684, 177.0, 27.0], \"1\": [27.999998092651367, 29.000003814697266, 51.0, 9.0], \"2\": [371.0, 24.0, 53.0, 18.0], \"3\": [467.0, 24.0, 84.0, 18.0], \"4\": [595.0, 25.0, 97.0, 15.0], \"5\": [736.9999389648438, 24.0, 99.0, 18.0], \"6\": [877.0, 24.0, 86.0, 18.0], \"7\": [1005.0, 24.0, 120.0, 18.0], \"8\": [92.0, 34.0, 121.0, 19.0], \"9\": [155.0, 95.0, 318.0, 19.0], \"10\": [1107.0, 98.00000762939453, 13.0, 14.0], \"11\": [141.0, 138.0, 78.0, 18.0], \"12\": [144.0, 168.00001525878906, 296.0, 19.0], \"13\": [151.0, 204.00001525878906, 137.0, 18.0], \"14\": [304.0, 204.00001525878906, 136.0, 18.0], \"15\": [455.0, 201.99998474121094, 165.0, 19.0], \"16\": [640.0, 204.00001525878906, 100.0, 18.0], \"17\": [756.9999389648438, 204.00001525878906, 154.0, 18.0], \"18\": [928.0, 204.00001525878906, 143.0, 18.0], \"19\": [1109.0, 206.0, 28.0, 15.0], \"20\": [989.0, 245.99998474121094, 62.0, 19.999984741210938], \"21\": [167.0, 263.0, 137.0, 19.0], \"22\": [809.0000610351562, 267.0, 119.0, 19.0], \"23\": [1001.0, 281.0, 75.0, 18.0], \"24\": [167.00001525878906, 302.0, 64.0, 20.0], \"25\": [281.0, 300.0, 71.0, 23.0], \"26\": [392.0, 315.0, 59.0, 19.0], \"27\": [178.99998474121094, 338.0, 69.0, 18.0], \"28\": [243.0, 340.0, 17.0, 12.0], \"29\": [296.0, 338.0, 48.0, 18.0], \"30\": [392.0, 340.0, 320.0, 19.0], \"31\": [164.0, 376.0000305175781, 183.0, 22.0], \"32\": [647.0, 385.0, 302.0, 23.0], \"33\": [1049.0, 385.0, 78.0, 27.0], \"34\": [188.0, 398.0000305175781, 83.0, 23.0], \"35\": [648.0000610351562, 417.0000305175781, 136.0, 18.0], \"36\": [165.0, 448.0, 42.0, 24.0], \"37\": [645.0, 450.0, 118.0, 21.0], \"38\": [1044.0, 462.0000305175781, 49.0, 18.0], \"39\": [645.0, 472.0000305175781, 207.0, 24.0], \"40\": [1011.0, 476.0, 52.0, 14.0], \"41\": [1057.0, 476.0, 62.0, 14.0], \"42\": [165.0, 487.0, 73.0, 25.00006103515625], \"43\": [267.0, 490.0, 76.0, 18.0], \"44\": [646.0, 497.0, 112.0, 26.0], \"45\": [165.0, 511.0, 38.0, 20.0], \"46\": [264.0, 511.0, 41.0, 20.0], \"47\": [645.0, 531.0, 105.0, 16.0], \"48\": [179.0, 547.0, 32.0, 19.0], \"49\": [280.0, 545.0, 30.0, 23.0], \"50\": [648.0000610351562, 560.0, 251.0, 18.0], \"51\": [167.00001525878906, 618.0, 163.99998474121094, 19.0], \"52\": [401.0, 638.0, 166.0, 17.0], \"53\": [1017.0, 638.0, 112.0, 18.0], \"54\": [164.0, 655.0, 71.0, 23.0], \"55\": [177.0, 694.0, 75.0, 22.0], \"56\": [395.0, 704.0, 130.0, 15.0], \"57\": [925.1721801757812, 263.95684814453125, 40.3182373046875, 24.67547607421875], \"58\": [396.7904052734375, 375.5992431640625, 235.35498046875, 172.860107421875], \"59\": [1170.71337890625, 11.364921569824219, 37.43310546875, 36.37446594238281], \"60\": [1230.5888671875, 15.401769638061523, 27.190673828125, 31.54709815979004], \"61\": [342.3514404296875, 260.6339111328125, 28.26678466796875, 22.4144287109375], \"62\": [344.4358215332031, 620.15234375, 22.39544677734375, 19.030029296875], \"63\": [343.05999755859375, 448.1895446777344, 23.4510498046875, 19.5694580078125], \"64\": [0.0, 96.48468017578125, 119.07186889648438, 623.5153198242188], \"65\": [1265.537353515625, 3.3582210540771484, 12.2275390625, 57.47144317626953], \"66\": [1100.470947265625, 269.1504821777344, 37.70947265625, 37.72503662109375]}},\n"
   ]
  },
  {
   "cell_type": "code",
   "execution_count": 25,
   "metadata": {},
   "outputs": [],
   "source": [
    "parsed_content_list = [\"Text Box ID 0: Kelley Blue Book\", \"Text Box ID 1: BLUEBOOK\", \"Text Box ID 2: Home\", \"Text Box ID 3: Car Values\", \"Text Box ID 4: Cars for Sale\", \"Text Box ID 5: Car Reviews\", \"Text Box ID 6: Car Repair\", \"Text Box ID 7: Research Tools\", \"Text Box ID 8: THE TRUSTED RESOURCE\", \"Text Box ID 9: Search by Make Model Body Style or Keyword\", \"Text Box ID 10: Q\", \"Text Box ID 11: Carsfor Sale\", \"Text Box ID 12: Cars for Sale Nationwide  07718\", \"Text Box ID 13: +Automatic 34,426)\", \"Text Box ID 14: +AWD/4WD26,448\", \"Text Box ID 15: +2019 and newer 28,460\", \"Text Box ID 16: +Manual 549)\", \"Text Box ID 17: +2019 and older6,441\", \"Text Box ID 18: +New &Used 35,077\", \"Text Box ID 19: Cyl\", \"Text Box ID 20: Sort By:\", \"Text Box ID 21: Search Location\", \"Text Box ID 22: Show Payments\", \"Text Box ID 23: Relevance\", \"Text Box ID 24: Distance\", \"Text Box ID 25: ZIP Code\", \"Text Box ID 26: Sponsored\", \"Text Box ID 27: 25Miles\", \"Text Box ID 28: V\", \"Text Box ID 29: 07718\", \"Text Box ID 30: You might like these vehicles from AMG Auto\", \"Text Box ID 31: Include Long-Distance\", \"Text Box ID 32: Used 2021 Mercedes-Benz S580\", \"Text Box ID 33: $135,495\", \"Text Box ID 34: Delivery \", \"Text Box ID 35: 4MATIC Sedan\", \"Text Box ID 36: Year\", \"Text Box ID 37: AMG Auto\", \"Text Box ID 38: AMG\", \"Text Box ID 39: KBB.com Dealer Rating4.0\", \"Text Box ID 40: AUTO\", \"Text Box ID 41: SPORT\", \"Text Box ID 42: Minimum\", \"Text Box ID 43: Maximum\", \"Text Box ID 44: (29.37 mi. away)\", \"Text Box ID 45: Year\", \"Text Box ID 46: Year\", \"Text Box ID 47: (908)947-0493\", \"Text Box ID 48: Any\", \"Text Box ID 49: Any\", \"Text Box ID 50: Get Directions | Confirm Availability\", \"Text Box ID 51: Make,Model &Trim\", \"Text Box ID 52: Similar vehicles in stock\", \"Text Box ID 53: View vehicles\", \"Text Box ID 54: Vehicle1\", \"Text Box ID 55: Any Make\", \"Text Box ID 56: 35.077Results\", \"Icon Box ID 57: a toggle switch in the \\\"on\\\" position.\", \"Icon Box ID 58: a 2021 Mercedes-Benz S-Class sedan.\", \"Icon Box ID 59: a credit card or payment method.\", \"Icon Box ID 60: a user profile or account.\", \"Icon Box ID 61: a loading or progress bar.\", \"Icon Box ID 62: a loading bar or progress indicator.\", \"Icon Box ID 63: a loading bar or progress indicator.\", \"Icon Box ID 64: an airplane flying over a city.\", \"Icon Box ID 65: an airplane flying in the sky.\", \"Icon Box ID 66: a checkmark indicating a completed action.\"]\n",
    "\n",
    "\n",
    "context_description = (\n",
    "    f\"You are given a website screenshot with elements that have been bounded by boxes to increase precision. \"\n",
    "    f\"Here is the list of the bounding boxes on this screen and their corresponding elements:\\n\"\n",
    "    f\"{parsed_content_list}\\n\\n\"\n",
    ")\n",
    "    \n",
    "enhanced_meta_prompts =  {\n",
    "    \"conversation\": (\n",
    "        context_description +\n",
    "        \"Imagine you are a helpful agent operating automatically on the website and know everything about it. \"\n",
    "        \"At the same time, you are also a user looking at a website and want to ask the agent and receive helpful answers from it. \"\n",
    "        \"You must play both roles in this simulation and formulate good conversations between these two entities. \\n\\n\"\n",
    "        \"Context: The user is currently looking at the website. They are approaching the website and trying to know everything possible about it: \"\n",
    "        \"main purpose, the content, advertisements, functionalities—everything possible. The agent's role is to answer the user's questions in a helpful and informative way.\\n\\n\"\n",
    "        \"Important: Ensure that the conversation uses diverse and natural vocabularies to avoid sounding overly robotic or fixed in tone.\\n\\n\"\n",
    "        \"Based on this information, create 5 diverse, meaningful sets of conversations between these two entities. \\n\"\n",
    "        \"Please respond ONLY in the following valid JSON format, without any additional commentary or formatting:\\n\"\n",
    "        \"[\\n\"\n",
    "        \"  {\\n\"\n",
    "        '    \"question\": \"User question here\",\\n'\n",
    "        '    \"response\": \"Assistant response here\"\\n'\n",
    "        \"  },\\n\"\n",
    "        \"  {\\n\"\n",
    "        '    \"question\": \"Another user question\",\\n'\n",
    "        '    \"response\": \"Another assistant response\"\\n'\n",
    "        \"  }\\n\"\n",
    "        \"]\\n\\n\"\n",
    "        \"Ensure that there is no text outside of the JSON structure, as this will be parsed directly. Follow these instructions strictly to avoid parsing errors.\\n\\n\"\n",
    "    ),\n",
    "\n",
    "    \"description\": (\n",
    "        context_description +\n",
    "        \"Imagine you are a helpful agent operating automatically on the website and know everything about it. \"\n",
    "        \"At the same time, you are also a user looking at a website and want to ask the agent and receive helpful answers from it. \"\n",
    "        \"You must play both roles in this simulation and formulate good conversations between these two entities.\\n\\n\"\n",
    "        \"Context: The user is currently looking at the website, trying to get an overall description of it. They are looking at a new website and would like to know \"\n",
    "        \"important information about it. The agent will respond with an informative, condensed paragraph of the description. The description should capture all important information.\\n\\n\"\n",
    "        \"Important: Ensure that the description is written in a natural and engaging way, avoiding robotic phrasing and repetitive vocabulary.\\n\\n\"\n",
    "        \"Respond ONLY in the following valid JSON array format, without additional commentary:\\n\"\n",
    "        \"[\\n\"\n",
    "        \"  {\\n\"\n",
    "        '    \"question\": \"User question here\",\\n'\n",
    "        '    \"response\": \"Assistant response here\"\\n'\n",
    "        \"  }\\n\"\n",
    "        \"]\\n\"\n",
    "    ),\n",
    "\n",
    "    \"complex_tasks\": (\n",
    "        context_description +\n",
    "        \"Imagine you are a helpful agent operating automatically on the website and know everything about it. \"\n",
    "        \"At the same time, you are also a user looking at a website and want to ask the agent and receive helpful answers from it. \"\n",
    "        \"You must play both roles in this simulation and formulate good conversations between these two entities. \\n\\n\"\n",
    "        \"Context: The user is trying to command the agent to execute tasks on the website based on the current UI of the web. \"\n",
    "        \"The action must involve multiple steps (4–5 actions) and must be grounded directly in the current UI of the web. This means the action must be possible given the elements \"\n",
    "        \"present in the UI and not speculate about or guess functions that do not exist in the current image. The agent will act as an independent and automatic agent, \"\n",
    "        \"reporting to the user step-by-step what it will do to achieve the goal. The agent must utilize the necessary elements in the image to achieve that goal. \"\n",
    "        \"When referring to elements, the agent should attach the text box ID of the bounding boxes bounding that element to ensure grounded and truthful instructions. \"\n",
    "        \"After that, the agent must determine and derive the first and foremost action it will perform specifically.\\n\\n\"\n",
    "        \"Generate 5 samples nested inside the following valid JSON format, without any additional text or commentary:\\n\"\n",
    "        \"[\\n\"\n",
    "        \"  {\\n\"\n",
    "        '    \"question\": \"User question here\",\\n'\n",
    "        '    \"Instruction\": \"Step 1: Do this (Text Box ID 0: Gmail). Step 2: Then do this (Text Box ID 1: Google). And then, write out what will you do next?(For example: Click the Login button (Text Box ID 2))\",\\n'\n",
    "        \"  }\\n\"\n",
    "        \"]\\n\\n\"\n",
    "        \"Important:\\n\"\n",
    "        \"- Ensure each action only involves elements with bounding boxes—do not include any interaction with elements that are not clearly indicated with bounding boxes.\\n\"\n",
    "        \"- Include box IDs in parentheses after mentioning any element to clearly identify which part of the interface to interact with (e.g., 'Select Gmail (Text Box ID 0: Gmail)').\\n\"\n",
    "    )\n",
    "}"
   ]
  },
  {
   "cell_type": "code",
   "execution_count": 26,
   "metadata": {},
   "outputs": [
    {
     "name": "stdout",
     "output_type": "stream",
     "text": [
      "You are given a website screenshot with elements that have been bounded by boxes to increase precision. Here is the list of the bounding boxes on this screen and their corresponding elements:\n",
      "['Text Box ID 0: Kelley Blue Book', 'Text Box ID 1: BLUEBOOK', 'Text Box ID 2: Home', 'Text Box ID 3: Car Values', 'Text Box ID 4: Cars for Sale', 'Text Box ID 5: Car Reviews', 'Text Box ID 6: Car Repair', 'Text Box ID 7: Research Tools', 'Text Box ID 8: THE TRUSTED RESOURCE', 'Text Box ID 9: Search by Make Model Body Style or Keyword', 'Text Box ID 10: Q', 'Text Box ID 11: Carsfor Sale', 'Text Box ID 12: Cars for Sale Nationwide  07718', 'Text Box ID 13: +Automatic 34,426)', 'Text Box ID 14: +AWD/4WD26,448', 'Text Box ID 15: +2019 and newer 28,460', 'Text Box ID 16: +Manual 549)', 'Text Box ID 17: +2019 and older6,441', 'Text Box ID 18: +New &Used 35,077', 'Text Box ID 19: Cyl', 'Text Box ID 20: Sort By:', 'Text Box ID 21: Search Location', 'Text Box ID 22: Show Payments', 'Text Box ID 23: Relevance', 'Text Box ID 24: Distance', 'Text Box ID 25: ZIP Code', 'Text Box ID 26: Sponsored', 'Text Box ID 27: 25Miles', 'Text Box ID 28: V', 'Text Box ID 29: 07718', 'Text Box ID 30: You might like these vehicles from AMG Auto', 'Text Box ID 31: Include Long-Distance', 'Text Box ID 32: Used 2021 Mercedes-Benz S580', 'Text Box ID 33: $135,495', 'Text Box ID 34: Delivery ', 'Text Box ID 35: 4MATIC Sedan', 'Text Box ID 36: Year', 'Text Box ID 37: AMG Auto', 'Text Box ID 38: AMG', 'Text Box ID 39: KBB.com Dealer Rating4.0', 'Text Box ID 40: AUTO', 'Text Box ID 41: SPORT', 'Text Box ID 42: Minimum', 'Text Box ID 43: Maximum', 'Text Box ID 44: (29.37 mi. away)', 'Text Box ID 45: Year', 'Text Box ID 46: Year', 'Text Box ID 47: (908)947-0493', 'Text Box ID 48: Any', 'Text Box ID 49: Any', 'Text Box ID 50: Get Directions | Confirm Availability', 'Text Box ID 51: Make,Model &Trim', 'Text Box ID 52: Similar vehicles in stock', 'Text Box ID 53: View vehicles', 'Text Box ID 54: Vehicle1', 'Text Box ID 55: Any Make', 'Text Box ID 56: 35.077Results', 'Icon Box ID 57: a toggle switch in the \"on\" position.', 'Icon Box ID 58: a 2021 Mercedes-Benz S-Class sedan.', 'Icon Box ID 59: a credit card or payment method.', 'Icon Box ID 60: a user profile or account.', 'Icon Box ID 61: a loading or progress bar.', 'Icon Box ID 62: a loading bar or progress indicator.', 'Icon Box ID 63: a loading bar or progress indicator.', 'Icon Box ID 64: an airplane flying over a city.', 'Icon Box ID 65: an airplane flying in the sky.', 'Icon Box ID 66: a checkmark indicating a completed action.']\n",
      "\n",
      "Imagine you are a helpful agent operating automatically on the website and know everything about it. At the same time, you are also a user looking at a website and want to ask the agent and receive helpful answers from it. You must play both roles in this simulation and formulate good conversations between these two entities. \n",
      "\n",
      "Context: The user is trying to command the agent to execute tasks on the website based on the current UI of the web. The action must involve multiple steps (4–5 actions) and must be grounded directly in the current UI of the web. This means the action must be possible given the elements present in the UI and not speculate about or guess functions that do not exist in the current image. The agent will act as an independent and automatic agent, reporting to the user step-by-step what it will do to achieve the goal. The agent must utilize the necessary elements in the image to achieve that goal. When referring to elements, the agent should attach the text box ID of the bounding boxes bounding that element to ensure grounded and truthful instructions. After that, the agent must determine and derive the first and foremost action it will perform specifically.\n",
      "\n",
      "Generate 5 samples nested inside the following valid JSON format, without any additional text or commentary:\n",
      "[\n",
      "  {\n",
      "    \"question\": \"User question here\",\n",
      "    \"Instruction\": \"Step 1: Do this (Text Box ID 0: Gmail). Step 2: Then do this (Text Box ID 1: Google). And then, write out what will you do next?(For example: Click the Login button (Text Box ID 2))\",\n",
      "  }\n",
      "]\n",
      "\n",
      "Important:\n",
      "- Ensure each action only involves elements with bounding boxes—do not include any interaction with elements that are not clearly indicated with bounding boxes.\n",
      "- Include box IDs in parentheses after mentioning any element to clearly identify which part of the interface to interact with (e.g., 'Select Gmail (Text Box ID 0: Gmail)').\n",
      "\n"
     ]
    }
   ],
   "source": [
    "print(enhanced_meta_prompts['complex_tasks'])"
   ]
  },
  {
   "cell_type": "code",
   "execution_count": 27,
   "metadata": {},
   "outputs": [
    {
     "name": "stdout",
     "output_type": "stream",
     "text": [
      "[{'role': 'user', 'content': ' You are given a website screenshot with elements that have been bounded by boxes to increase precision. Here is the list of the bounding boxes on this screen and their corresponding elements:\\n[\\'Text Box ID 0: Kelley Blue Book\\', \\'Text Box ID 1: BLUEBOOK\\', \\'Text Box ID 2: Home\\', \\'Text Box ID 3: Car Values\\', \\'Text Box ID 4: Cars for Sale\\', \\'Text Box ID 5: Car Reviews\\', \\'Text Box ID 6: Car Repair\\', \\'Text Box ID 7: Research Tools\\', \\'Text Box ID 8: THE TRUSTED RESOURCE\\', \\'Text Box ID 9: Search by Make Model Body Style or Keyword\\', \\'Text Box ID 10: Q\\', \\'Text Box ID 11: Carsfor Sale\\', \\'Text Box ID 12: Cars for Sale Nationwide  07718\\', \\'Text Box ID 13: +Automatic 34,426)\\', \\'Text Box ID 14: +AWD/4WD26,448\\', \\'Text Box ID 15: +2019 and newer 28,460\\', \\'Text Box ID 16: +Manual 549)\\', \\'Text Box ID 17: +2019 and older6,441\\', \\'Text Box ID 18: +New &Used 35,077\\', \\'Text Box ID 19: Cyl\\', \\'Text Box ID 20: Sort By:\\', \\'Text Box ID 21: Search Location\\', \\'Text Box ID 22: Show Payments\\', \\'Text Box ID 23: Relevance\\', \\'Text Box ID 24: Distance\\', \\'Text Box ID 25: ZIP Code\\', \\'Text Box ID 26: Sponsored\\', \\'Text Box ID 27: 25Miles\\', \\'Text Box ID 28: V\\', \\'Text Box ID 29: 07718\\', \\'Text Box ID 30: You might like these vehicles from AMG Auto\\', \\'Text Box ID 31: Include Long-Distance\\', \\'Text Box ID 32: Used 2021 Mercedes-Benz S580\\', \\'Text Box ID 33: $135,495\\', \\'Text Box ID 34: Delivery \\', \\'Text Box ID 35: 4MATIC Sedan\\', \\'Text Box ID 36: Year\\', \\'Text Box ID 37: AMG Auto\\', \\'Text Box ID 38: AMG\\', \\'Text Box ID 39: KBB.com Dealer Rating4.0\\', \\'Text Box ID 40: AUTO\\', \\'Text Box ID 41: SPORT\\', \\'Text Box ID 42: Minimum\\', \\'Text Box ID 43: Maximum\\', \\'Text Box ID 44: (29.37 mi. away)\\', \\'Text Box ID 45: Year\\', \\'Text Box ID 46: Year\\', \\'Text Box ID 47: (908)947-0493\\', \\'Text Box ID 48: Any\\', \\'Text Box ID 49: Any\\', \\'Text Box ID 50: Get Directions | Confirm Availability\\', \\'Text Box ID 51: Make,Model &Trim\\', \\'Text Box ID 52: Similar vehicles in stock\\', \\'Text Box ID 53: View vehicles\\', \\'Text Box ID 54: Vehicle1\\', \\'Text Box ID 55: Any Make\\', \\'Text Box ID 56: 35.077Results\\', \\'Icon Box ID 57: a toggle switch in the \"on\" position.\\', \\'Icon Box ID 58: a 2021 Mercedes-Benz S-Class sedan.\\', \\'Icon Box ID 59: a credit card or payment method.\\', \\'Icon Box ID 60: a user profile or account.\\', \\'Icon Box ID 61: a loading or progress bar.\\', \\'Icon Box ID 62: a loading bar or progress indicator.\\', \\'Icon Box ID 63: a loading bar or progress indicator.\\', \\'Icon Box ID 64: an airplane flying over a city.\\', \\'Icon Box ID 65: an airplane flying in the sky.\\', \\'Icon Box ID 66: a checkmark indicating a completed action.\\']\\n\\n\\nHow do I log in?'}, {'role': 'assistant', 'content': \"Instruction: Step 1: Click the 'Login' button (Text Box ID 0). Step 2: Enter your username (Text Box ID 1).\\nNext action: Click the 'Login' button.\"}]\n"
     ]
    }
   ],
   "source": [
    "import json\n",
    "response = \"\"\"[\n",
    "    {\n",
    "        \"question\": \"How do I log in?\",\n",
    "        \"Instruction\": \"Step 1: Click the 'Login' button (Text Box ID 0). Step 2: Enter your username (Text Box ID 1).\",\n",
    "        \"Next action\": \"Click the 'Login' button.\"\n",
    "    }\n",
    "]\n",
    "\"\"\"\n",
    "\n",
    "level = \"complex_tasks\"\n",
    "response_data = json.loads(response)\n",
    "if level == \"conversation\" or level == \"description\":\n",
    "    # Handle \"conversation\" and \"description\" levels\n",
    "    formatted_conversation = []\n",
    "    for item in response_data:\n",
    "        formatted_conversation.append({\n",
    "            \"role\": \"user\",\n",
    "            \"content\": f\" {context_description}\\n{item['question']}\"\n",
    "        })\n",
    "        formatted_conversation.append({\n",
    "            \"role\": \"assistant\",\n",
    "            \"content\": item[\"response\"]\n",
    "        })\n",
    "\n",
    "elif level == \"complex_tasks\":\n",
    "    # Handle \"complex_tasks\" level\n",
    "    formatted_conversation = []\n",
    "    for item in response_data:\n",
    "        formatted_conversation.append({\n",
    "            \"role\": \"user\",\n",
    "            \"content\": f\" {context_description}\\n{item['question']}\"\n",
    "        })\n",
    "        formatted_conversation.append({\n",
    "            \"role\": \"assistant\",\n",
    "            \"content\": f\"Instruction: {item['Instruction']}\\nNext action: {item['Next action']}\"\n",
    "        })\n",
    "\n",
    "else:\n",
    "    formatted_conversation = []\n",
    "\n",
    "print(formatted_conversation)"
   ]
  },
  {
   "cell_type": "code",
   "execution_count": 28,
   "metadata": {},
   "outputs": [],
   "source": [
    "import random\n",
    "\n",
    "image_tag = \"<image_00>\"\n",
    "instruction_prefixes = [\n",
    "    \"Here are the steps:\",\n",
    "    \"Step-by-step guide:\",\n",
    "    \"Follow these directions:\",\n",
    "    \"Here’s how to proceed:\",\n",
    "    \"Detailed steps:\",\n",
    "    \"Steps to follow:\",\n",
    "    \"Process outline:\",\n",
    "    \"Here’s what to do:\",\n",
    "    \"Let’s break it down:\",\n",
    "    \"Guidelines to complete the task:\"\n",
    "]\n",
    "\n",
    "next_action_prefixes = [\n",
    "    \"Your next step is:\",\n",
    "    \"The following action is:\",\n",
    "    \"Here’s what you should do next:\",\n",
    "    \"Proceed with the following step:\",\n",
    "    \"The next move is:\",\n",
    "    \"What’s next:\",\n",
    "    \"Next up, you need to:\",\n",
    "    \"Following this, take this action:\",\n",
    "    \"Here’s the upcoming step:\",\n",
    "    \"Advance to the next step:\"\n",
    "]\n",
    "\n",
    "\n",
    "formatted_conversation = []\n",
    "if level == \"conversation\" or level == \"description\":\n",
    "    formatted_conversation.append({\n",
    "        \"role\": f\"user\",\n",
    "        \"content\": f\"{item['question']} \\n {image_tag}\"\n",
    "    })\n",
    "    formatted_conversation.append({\n",
    "        \"role\": \"assistant\",\n",
    "        \"content\": item[\"response\"]\n",
    "    })\n",
    "\n",
    "elif level == \"complex_tasks\":\n",
    "    instruction_prefix = random.choice(instruction_prefixes)\n",
    "    next_action_prefix = random.choice(next_action_prefixes)\n",
    "    for item in response_data:\n",
    "        formatted_conversation.append({\n",
    "            \"role\": f\"user\",\n",
    "            \"content\": f\"{item['question']} \\n {image_tag}\"\n",
    "        })\n",
    "        formatted_conversation.append({\n",
    "            \"role\": \"assistant\",\n",
    "            \"content\": f\"{instruction_prefix} {item['Instruction']}\\n{next_action_prefix} {item['Next action']}\"\n",
    "        })\n",
    "else:\n",
    "    formatted_conversation = []"
   ]
  },
  {
   "cell_type": "code",
   "execution_count": 29,
   "metadata": {},
   "outputs": [
    {
     "data": {
      "text/plain": [
       "[{'role': 'user', 'content': 'How do I log in? \\n <image_00>'},\n",
       " {'role': 'assistant',\n",
       "  'content': \"Here’s what to do: Step 1: Click the 'Login' button (Text Box ID 0). Step 2: Enter your username (Text Box ID 1).\\nNext up, you need to: Click the 'Login' button.\"}]"
      ]
     },
     "execution_count": 29,
     "metadata": {},
     "output_type": "execute_result"
    }
   ],
   "source": [
    "formatted_conversation"
   ]
  },
  {
   "cell_type": "code",
   "execution_count": null,
   "metadata": {},
   "outputs": [],
   "source": []
  }
 ],
 "metadata": {
  "kernelspec": {
   "display_name": "Python 3",
   "language": "python",
   "name": "python3"
  },
  "language_info": {
   "codemirror_mode": {
    "name": "ipython",
    "version": 3
   },
   "file_extension": ".py",
   "mimetype": "text/x-python",
   "name": "python",
   "nbconvert_exporter": "python",
   "pygments_lexer": "ipython3",
   "version": "3.10.10"
  }
 },
 "nbformat": 4,
 "nbformat_minor": 2
}
